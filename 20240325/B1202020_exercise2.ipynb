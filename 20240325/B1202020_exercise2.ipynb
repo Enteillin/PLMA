{
  "nbformat": 4,
  "nbformat_minor": 0,
  "metadata": {
    "colab": {
      "provenance": []
    },
    "kernelspec": {
      "name": "python3",
      "display_name": "Python 3"
    },
    "language_info": {
      "name": "python"
    }
  },
  "cells": [
    {
      "cell_type": "code",
      "execution_count": 9,
      "metadata": {
        "colab": {
          "base_uri": "https://localhost:8080/"
        },
        "id": "_-m9esGMeX56",
        "outputId": "82c67644-c263-46b7-dfca-ef81ff2bb1e6"
      },
      "outputs": [
        {
          "output_type": "stream",
          "name": "stdout",
          "text": [
            "{'姓名': '賴宏瑋', '性別': '男', '作業分數': [100, 100, 90], '學號': 'M1129020'}\n",
            "96.66666666666667\n"
          ]
        }
      ],
      "source": [
        "dic = {'姓名':\"賴宏瑋\", \"性別\":\"男\", \"作業分數\":[80, 95, 100, 90]}\n",
        "dic['學號'] = \"M1129020\"\n",
        "dic['作業分數'][1] = 100\n",
        "del dic['作業分數'][0]\n",
        "print(dic)\n",
        "a, b, c = dic['作業分數'][0:3]\n",
        "avg = (a + b + c)/3\n",
        "print(avg)"
      ]
    }
  ]
}