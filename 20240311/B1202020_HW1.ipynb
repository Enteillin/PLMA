{
  "nbformat": 4,
  "nbformat_minor": 0,
  "metadata": {
    "colab": {
      "provenance": []
    },
    "kernelspec": {
      "name": "python3",
      "display_name": "Python 3"
    },
    "language_info": {
      "name": "python"
    }
  },
  "cells": [
    {
      "cell_type": "code",
      "execution_count": 1,
      "metadata": {
        "colab": {
          "base_uri": "https://localhost:8080/"
        },
        "id": "GD3f1CUFm_Hs",
        "outputId": "39f10e3e-b632-4c43-965e-058a805e3de2"
      },
      "outputs": [
        {
          "output_type": "stream",
          "name": "stdout",
          "text": [
            "I'm a student\n"
          ]
        }
      ],
      "source": [
        "a = \"I'm a student\"\n",
        "print(a)"
      ]
    },
    {
      "cell_type": "code",
      "source": [
        "a = float(input('請輸入A點x座標:'))\n",
        "b = float(input('請輸入A點y座標:'))\n",
        "c = float(input('請輸入B點x座標:'))\n",
        "d = float(input('請輸入B點y座標:'))\n",
        "s = ((a-c) ** 2 + (b-d) ** 2) ** (0.5)\n",
        "print(s)"
      ],
      "metadata": {
        "colab": {
          "base_uri": "https://localhost:8080/"
        },
        "id": "a9BGrH_1ny4x",
        "outputId": "b807ddcd-f64c-4a09-8fd6-2f317814718b"
      },
      "execution_count": 4,
      "outputs": [
        {
          "output_type": "stream",
          "name": "stdout",
          "text": [
            "請輸入A點x座標:0\n",
            "請輸入A點y座標:0\n",
            "請輸入B點x座標:1\n",
            "請輸入B點y座標:1\n",
            "1.4142135623730951\n"
          ]
        }
      ]
    },
    {
      "cell_type": "code",
      "source": [
        "h = float(input('請輸入身高(cm):'))\n",
        "w = float(input('請輸入體重(kg):'))\n",
        "w /= (h/100)**2\n",
        "print(w)"
      ],
      "metadata": {
        "colab": {
          "base_uri": "https://localhost:8080/"
        },
        "id": "srHa6O46oc5x",
        "outputId": "4358328e-cf06-49b3-9e94-fff5470a460a"
      },
      "execution_count": 2,
      "outputs": [
        {
          "output_type": "stream",
          "name": "stdout",
          "text": [
            "請輸入身高(cm):180\n",
            "請輸入體重(kg)70\n",
            "21.604938271604937\n"
          ]
        }
      ]
    }
  ]
}