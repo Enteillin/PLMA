{
  "nbformat": 4,
  "nbformat_minor": 0,
  "metadata": {
    "colab": {
      "provenance": []
    },
    "kernelspec": {
      "name": "python3",
      "display_name": "Python 3"
    },
    "language_info": {
      "name": "python"
    }
  },
  "cells": [
    {
      "cell_type": "code",
      "execution_count": 19,
      "metadata": {
        "colab": {
          "base_uri": "https://localhost:8080/"
        },
        "id": "ccguwUAabxVH",
        "outputId": "6a8500f3-1aa6-40b2-8739-6a2b95ebd67f"
      },
      "outputs": [
        {
          "output_type": "stream",
          "name": "stdout",
          "text": [
            "88.33333333333333\n",
            "{'姓名': '賴宏瑋', '性別': '男', '學號': 'M1129020'}\n",
            "95.0\n",
            "{'姓名': '許珈綺', '性別': '女', '學號': 'M1229001'}\n"
          ]
        }
      ],
      "source": [
        "import copy\n",
        "dic_1 = {\"姓名\":\"賴宏瑋\",\"性別\":\"男\",'作業分數':[95, 100, 90]}\n",
        "dic_2 = {'學號':\"M1129020\"}\n",
        "dic_3 = {**dic_1, **dic_2}\n",
        "dic_4 = copy.deepcopy(dic_3)\n",
        "dic_3['作業分數'][1] = 80\n",
        "dic_4['姓名'] = '許珈綺'\n",
        "dic_4['性別'] = '女'\n",
        "dic_4['學號'] = 'M1229001'\n",
        "l = dic_3.pop('作業分數')\n",
        "avg_3 = (l[0] + l[1] +l[2])/3\n",
        "print(avg_3)\n",
        "print(dic_3)\n",
        "h = dic_4.pop('作業分數')\n",
        "avg_4 = (h[0] + h[1] +h[2])/3\n",
        "print(avg_4)\n",
        "print(dic_4)"
      ]
    },
    {
      "cell_type": "code",
      "source": [
        "l = [100,50,45,60,90,95,80,50]\n",
        "l.insert(0,88)\n",
        "l = l[:2] + [70,50] + l[4:]\n",
        "a = l.index(50)\n",
        "del l[a]\n",
        "b = l.pop(0)\n",
        "c = l.pop(-1)\n",
        "d = b + c\n",
        "print(d)"
      ],
      "metadata": {
        "colab": {
          "base_uri": "https://localhost:8080/"
        },
        "id": "hs7xQjlIeSSa",
        "outputId": "a4798131-c686-42ef-9b49-1d89b5691792"
      },
      "execution_count": 36,
      "outputs": [
        {
          "output_type": "stream",
          "name": "stdout",
          "text": [
            "138\n"
          ]
        }
      ]
    },
    {
      "cell_type": "code",
      "source": [
        "a = 347//3\n",
        "b = 347%3\n",
        "c = a ** b\n",
        "print('商:' + str(a))\n",
        "print(\"餘數:\" + str(b))\n",
        "print(c)"
      ],
      "metadata": {
        "colab": {
          "base_uri": "https://localhost:8080/"
        },
        "id": "Q-2TRBdbeSVB",
        "outputId": "c9b9aee0-f92b-4290-b2ab-b8670fe8b928"
      },
      "execution_count": 38,
      "outputs": [
        {
          "output_type": "stream",
          "name": "stdout",
          "text": [
            "商:115\n",
            "餘數:2\n",
            "13225\n"
          ]
        }
      ]
    }
  ]
}