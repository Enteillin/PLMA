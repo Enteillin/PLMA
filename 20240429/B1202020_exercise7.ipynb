{
  "nbformat": 4,
  "nbformat_minor": 0,
  "metadata": {
    "colab": {
      "provenance": []
    },
    "kernelspec": {
      "name": "python3",
      "display_name": "Python 3"
    },
    "language_info": {
      "name": "python"
    }
  },
  "cells": [
    {
      "cell_type": "code",
      "execution_count": 37,
      "metadata": {
        "id": "xdvi97hWlx77",
        "colab": {
          "base_uri": "https://localhost:8080/"
        },
        "outputId": "04fa90ed-e65d-4094-9feb-61bcd1988b97"
      },
      "outputs": [
        {
          "output_type": "stream",
          "name": "stdout",
          "text": [
            "聖誕樹層數:15\n",
            "              *              \n",
            "             ***             \n",
            "            *****            \n",
            "           *******           \n",
            "          *********          \n",
            "         ***********         \n",
            "        *************        \n",
            "       ***************       \n",
            "      *****************      \n",
            "     *******************     \n",
            "    *********************    \n",
            "   ***********************   \n",
            "  *************************  \n",
            " *************************** \n",
            "*****************************\n",
            "             ***             \n",
            "             ***             \n",
            "             ***             \n",
            "             ***             \n",
            "             ***             \n"
          ]
        }
      ],
      "source": [
        "def f(h):\n",
        "  l = []\n",
        "  for i in range(0,h):\n",
        "    l.append(\" \" * (h - i - 1) + \"*\" * (2 * i + 1) + \" \" * (h - i - 1))\n",
        "  for j in range(5):\n",
        "    l.append(\" \" * (h - 2) + \"*\" * 3 + \" \" * (h - 2))\n",
        "  return l\n",
        "\n",
        "h = input('聖誕樹層數:')\n",
        "l = (f(int(h)))\n",
        "for x in l:\n",
        "   print(x)"
      ]
    },
    {
      "cell_type": "code",
      "source": [
        "def f(h,m):\n",
        "  try:\n",
        "    h = float(h)\n",
        "    m = float(m)\n",
        "    c = m / ((h / 100) ** 2)\n",
        "    x = f'BMI:{c}'\n",
        "    if c < 18.5:\n",
        "      d = \"體位:過輕\"\n",
        "    elif c < 24:\n",
        "      d = \"體位:適中\"\n",
        "    elif c < 27:\n",
        "      d = '體位:過重'\n",
        "    else:\n",
        "      d = '體位:肥胖'\n",
        "    return [x, d]\n",
        "  except ValueError:\n",
        "    d = ('輸入內容錯誤')\n",
        "    return [d]\n",
        "\n",
        "h = input('請輸入高度(公分):')\n",
        "m = input('請輸入體重(公斤):')\n",
        "for x in f(h,m):\n",
        "  print(x)\n",
        "h = input('請輸入高度(公分):')\n",
        "m = input('請輸入體重(公斤):')\n",
        "for x in f(h,m):\n",
        "  print(x)"
      ],
      "metadata": {
        "colab": {
          "base_uri": "https://localhost:8080/"
        },
        "id": "YC7gBC8StaoL",
        "outputId": "c3096e42-ef5a-4169-a305-31d0b33bced9"
      },
      "execution_count": 46,
      "outputs": [
        {
          "output_type": "stream",
          "name": "stdout",
          "text": [
            "請輸入高度(公分):100\n",
            "請輸入體重(公斤):100\n",
            "BMI:100.0\n",
            "體位:肥胖\n",
            "請輸入高度(公分):100\n",
            "請輸入體重(公斤):a\n",
            "輸入內容錯誤\n"
          ]
        }
      ]
    }
  ]
}