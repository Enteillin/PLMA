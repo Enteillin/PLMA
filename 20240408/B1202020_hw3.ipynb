{
  "nbformat": 4,
  "nbformat_minor": 0,
  "metadata": {
    "colab": {
      "provenance": []
    },
    "kernelspec": {
      "name": "python3",
      "display_name": "Python 3"
    },
    "language_info": {
      "name": "python"
    }
  },
  "cells": [
    {
      "cell_type": "code",
      "source": [
        "a = int(input(\"請輸入年份:\"))\n",
        "if a > 1582:\n",
        "  if (a % 4 == 0 and a % 100 != 0) or a % 400 == 0:\n",
        "    print(\"此年為閏年\")\n",
        "  else:\n",
        "    print(\"此年為平年\")\n",
        "else:\n",
        "  if a % 4 == 0:\n",
        "    print(\"此年為閏年\")\n",
        "  else:\n",
        "    print(\"此年為平年\")"
      ],
      "metadata": {
        "colab": {
          "base_uri": "https://localhost:8080/"
        },
        "id": "W4kJSnk3rKh8",
        "outputId": "67258c2f-54d9-40b2-8a80-d90b448d5314"
      },
      "execution_count": 10,
      "outputs": [
        {
          "output_type": "stream",
          "name": "stdout",
          "text": [
            "請輸入年份: 1500\n",
            "此年為閏年\n"
          ]
        }
      ]
    }
  ]
}