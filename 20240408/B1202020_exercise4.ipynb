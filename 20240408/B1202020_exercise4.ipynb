{
  "nbformat": 4,
  "nbformat_minor": 0,
  "metadata": {
    "colab": {
      "provenance": []
    },
    "kernelspec": {
      "name": "python3",
      "display_name": "Python 3"
    },
    "language_info": {
      "name": "python"
    }
  },
  "cells": [
    {
      "cell_type": "code",
      "execution_count": 19,
      "metadata": {
        "colab": {
          "base_uri": "https://localhost:8080/"
        },
        "id": "Xw8GS8A0g_sN",
        "outputId": "1666434b-48f3-4b9f-812a-2775d405eb06"
      },
      "outputs": [
        {
          "output_type": "stream",
          "name": "stdout",
          "text": [
            "請輸入身高(cm):100\n",
            "請輸入體重(kg):18.5\n",
            "18.5\n",
            "適中\n"
          ]
        }
      ],
      "source": [
        "a = float(input('請輸入身高(cm):'))\n",
        "b = float(input(\"請輸入體重(kg):\"))\n",
        "c = b/(a/100)**2\n",
        "print(c)\n",
        "if c < 18.5:\n",
        "  print(\"過輕\")\n",
        "elif c < 24:\n",
        "  print(\"適中\")\n",
        "elif c < 27:\n",
        "   print('過重')\n",
        "else:\n",
        "  print('肥胖')"
      ]
    },
    {
      "cell_type": "code",
      "source": [
        "a = float(input('請輸入第一個數字:'))\n",
        "b = input('請輸入運算符號:')\n",
        "c = float(input('請輸入第二個數字:'))\n",
        "if b == '+':\n",
        "  d = a + c\n",
        "elif b == '-':\n",
        "  d = a - c\n",
        "elif b == '*':\n",
        "  d = a * c\n",
        "elif b == '/':\n",
        "  d = a / c\n",
        "print(d)"
      ],
      "metadata": {
        "colab": {
          "base_uri": "https://localhost:8080/"
        },
        "id": "SzbW5yTMkBIO",
        "outputId": "34031404-67a2-4e34-8691-41fa4782552f"
      },
      "execution_count": 20,
      "outputs": [
        {
          "output_type": "stream",
          "name": "stdout",
          "text": [
            "請輸入第一個數字:4\n",
            "請輸入運算符號:/\n",
            "請輸入第二個數字:3\n",
            "1.3333333333333333\n"
          ]
        }
      ]
    }
  ]
}