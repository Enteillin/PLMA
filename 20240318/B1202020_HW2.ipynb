{
  "nbformat": 4,
  "nbformat_minor": 0,
  "metadata": {
    "colab": {
      "provenance": []
    },
    "kernelspec": {
      "name": "python3",
      "display_name": "Python 3"
    },
    "language_info": {
      "name": "python"
    }
  },
  "cells": [
    {
      "cell_type": "code",
      "execution_count": 37,
      "metadata": {
        "colab": {
          "base_uri": "https://localhost:8080/"
        },
        "id": "IHB3JcY_d97P",
        "outputId": "7e364560-cb6d-482f-89bf-659f55c72e06"
      },
      "outputs": [
        {
          "output_type": "stream",
          "name": "stdout",
          "text": [
            "A\n",
            "['K', 'H', 'U']\n"
          ]
        }
      ],
      "source": [
        "a = 'C,B,A'\n",
        "a = a.split(',')\n",
        "b = ['F','G','H']\n",
        "a = a + b\n",
        "a[0] = 'K'\n",
        "b = a.pop(2)\n",
        "print(b)\n",
        "del a[1:4]\n",
        "a.append('U')\n",
        "print(a)"
      ]
    },
    {
      "cell_type": "code",
      "source": [
        "a = input('請輸入八位數:')\n",
        "print(a[4])"
      ],
      "metadata": {
        "colab": {
          "base_uri": "https://localhost:8080/"
        },
        "id": "dQkF3S0kfC-3",
        "outputId": "8777de57-25f6-49db-c328-62aad594b7e4"
      },
      "execution_count": 5,
      "outputs": [
        {
          "output_type": "stream",
          "name": "stdout",
          "text": [
            "請輸入八位數:12345678\n",
            "5\n"
          ]
        }
      ]
    },
    {
      "cell_type": "code",
      "source": [
        "a = 'My ID is B1202020'\n",
        "a = a.split(\" \")\n",
        "print(len(a))\n",
        "b = len(a[3])\n",
        "print(b)"
      ],
      "metadata": {
        "colab": {
          "base_uri": "https://localhost:8080/"
        },
        "id": "k0pL9MEXfOf_",
        "outputId": "5b9d8d44-2429-45ac-b212-633bea986b5d"
      },
      "execution_count": 44,
      "outputs": [
        {
          "output_type": "stream",
          "name": "stdout",
          "text": [
            "4\n",
            "8\n"
          ]
        }
      ]
    },
    {
      "cell_type": "code",
      "source": [
        "a = \"I'm a student\"\n",
        "a = a.split(\" \")\n",
        "print(a[0][2])"
      ],
      "metadata": {
        "colab": {
          "base_uri": "https://localhost:8080/"
        },
        "id": "tnZ2IF6ofl2P",
        "outputId": "e9daff04-9207-47ae-f0a4-273074dbc1cd"
      },
      "execution_count": 48,
      "outputs": [
        {
          "output_type": "stream",
          "name": "stdout",
          "text": [
            "m\n"
          ]
        }
      ]
    }
  ]
}